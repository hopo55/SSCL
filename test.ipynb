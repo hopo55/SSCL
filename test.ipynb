{
 "cells": [
  {
   "cell_type": "code",
   "execution_count": 1,
   "metadata": {},
   "outputs": [
    {
     "name": "stderr",
     "output_type": "stream",
     "text": [
      "/home/cal-05/anaconda3/envs/hspark/lib/python3.8/site-packages/tqdm/auto.py:22: TqdmWarning: IProgress not found. Please update jupyter and ipywidgets. See https://ipywidgets.readthedocs.io/en/stable/user_install.html\n",
      "  from .autonotebook import tqdm as notebook_tqdm\n"
     ]
    }
   ],
   "source": [
    "import dataloaders\n",
    "import numpy as np"
   ]
  },
  {
   "cell_type": "code",
   "execution_count": 2,
   "metadata": {},
   "outputs": [],
   "source": [
    "Dataset = dataloaders.CIFAR100"
   ]
  },
  {
   "cell_type": "code",
   "execution_count": 3,
   "metadata": {},
   "outputs": [
    {
     "name": "stdout",
     "output_type": "stream",
     "text": [
      "Files already downloaded and verified\n",
      "===============================\n",
      "(50000, 32, 32, 3)\n",
      "===============================\n",
      "(50000,)\n",
      "0\n",
      "99\n"
     ]
    }
   ],
   "source": [
    "train_dataset = Dataset('data', download=True)\n",
    "data = train_dataset.data\n",
    "targets = train_dataset.targets\n",
    "\n",
    "print('===============================')\n",
    "print(np.array(data).shape)\n",
    "\n",
    "print('===============================')\n",
    "print(np.array(targets).shape)\n",
    "print(min(targets))\n",
    "print(max(targets))"
   ]
  },
  {
   "cell_type": "code",
   "execution_count": 4,
   "metadata": {},
   "outputs": [
    {
     "name": "stdout",
     "output_type": "stream",
     "text": [
      "Files already downloaded and verified\n",
      "===============================\n",
      "(50000, 32, 32, 3)\n",
      "===============================\n",
      "(50000,)\n",
      "0\n",
      "99\n"
     ]
    }
   ],
   "source": [
    "train_dataset = Dataset('data', download=True, num_label_data=100)\n",
    "data = train_dataset.data\n",
    "targets = train_dataset.targets\n",
    "\n",
    "print('===============================')\n",
    "print(np.array(data).shape)\n",
    "\n",
    "print('===============================')\n",
    "print(np.array(targets).shape)\n",
    "print(min(targets))\n",
    "print(max(targets))"
   ]
  },
  {
   "cell_type": "code",
   "execution_count": 5,
   "metadata": {},
   "outputs": [],
   "source": [
    "from collections import Counter"
   ]
  },
  {
   "cell_type": "code",
   "execution_count": 6,
   "metadata": {},
   "outputs": [
    {
     "name": "stdout",
     "output_type": "stream",
     "text": [
      "Files already downloaded and verified\n",
      "===============================\n",
      "(50000, 32, 32, 3)\n",
      "===============================\n",
      "(50000,)\n",
      "0\n",
      "99\n",
      "Counter({19: 500, 29: 500, 0: 500, 11: 500, 1: 500, 86: 500, 90: 500, 28: 500, 23: 500, 31: 500, 39: 500, 96: 500, 82: 500, 17: 500, 71: 500, 8: 500, 97: 500, 80: 500, 74: 500, 59: 500, 70: 500, 87: 500, 84: 500, 64: 500, 52: 500, 42: 500, 47: 500, 65: 500, 21: 500, 22: 500, 81: 500, 24: 500, 78: 500, 45: 500, 49: 500, 56: 500, 76: 500, 89: 500, 73: 500, 14: 500, 9: 500, 6: 500, 20: 500, 98: 500, 36: 500, 55: 500, 72: 500, 43: 500, 51: 500, 35: 500, 83: 500, 33: 500, 27: 500, 53: 500, 92: 500, 50: 500, 15: 500, 18: 500, 46: 500, 75: 500, 38: 500, 66: 500, 77: 500, 69: 500, 95: 500, 99: 500, 93: 500, 4: 500, 61: 500, 94: 500, 68: 500, 34: 500, 32: 500, 88: 500, 67: 500, 30: 500, 62: 500, 63: 500, 40: 500, 26: 500, 48: 500, 79: 500, 85: 500, 54: 500, 44: 500, 7: 500, 12: 500, 2: 500, 41: 500, 37: 500, 13: 500, 25: 500, 10: 500, 57: 500, 5: 500, 60: 500, 91: 500, 3: 500, 58: 500, 16: 500})\n"
     ]
    }
   ],
   "source": [
    "train_dataset = Dataset('data', download=True, num_label_data=100, class_type='super')\n",
    "data = train_dataset.data\n",
    "targets = train_dataset.targets\n",
    "\n",
    "print('===============================')\n",
    "print(np.array(data).shape)\n",
    "\n",
    "print('===============================')\n",
    "print(np.array(targets).shape)\n",
    "print(min(targets))\n",
    "print(max(targets))\n",
    "\n",
    "targets = Counter(targets)\n",
    "print(targets)"
   ]
  },
  {
   "cell_type": "code",
   "execution_count": 7,
   "metadata": {},
   "outputs": [
    {
     "name": "stdout",
     "output_type": "stream",
     "text": [
      "Files already downloaded and verified\n",
      "===============================\n",
      "(50000, 32, 32, 3)\n",
      "===============================\n",
      "(50000,)\n",
      "0\n",
      "99\n",
      "Counter({19: 500, 29: 500, 0: 500, 11: 500, 1: 500, 86: 500, 90: 500, 28: 500, 23: 500, 31: 500, 39: 500, 96: 500, 82: 500, 17: 500, 71: 500, 8: 500, 97: 500, 80: 500, 74: 500, 59: 500, 70: 500, 87: 500, 84: 500, 64: 500, 52: 500, 42: 500, 47: 500, 65: 500, 21: 500, 22: 500, 81: 500, 24: 500, 78: 500, 45: 500, 49: 500, 56: 500, 76: 500, 89: 500, 73: 500, 14: 500, 9: 500, 6: 500, 20: 500, 98: 500, 36: 500, 55: 500, 72: 500, 43: 500, 51: 500, 35: 500, 83: 500, 33: 500, 27: 500, 53: 500, 92: 500, 50: 500, 15: 500, 18: 500, 46: 500, 75: 500, 38: 500, 66: 500, 77: 500, 69: 500, 95: 500, 99: 500, 93: 500, 4: 500, 61: 500, 94: 500, 68: 500, 34: 500, 32: 500, 88: 500, 67: 500, 30: 500, 62: 500, 63: 500, 40: 500, 26: 500, 48: 500, 79: 500, 85: 500, 54: 500, 44: 500, 7: 500, 12: 500, 2: 500, 41: 500, 37: 500, 13: 500, 25: 500, 10: 500, 57: 500, 5: 500, 60: 500, 91: 500, 3: 500, 58: 500, 16: 500})\n"
     ]
    }
   ],
   "source": [
    "train_dataset = Dataset('data', label=False, num_label_data=100, class_type='super', download=True)\n",
    "data = train_dataset.data\n",
    "targets = train_dataset.targets\n",
    "\n",
    "print('===============================')\n",
    "print(np.array(data).shape)\n",
    "\n",
    "print('===============================')\n",
    "print(np.array(targets).shape)\n",
    "print(min(targets))\n",
    "print(max(targets))\n",
    "\n",
    "targets = Counter(targets)\n",
    "print(targets)"
   ]
  }
 ],
 "metadata": {
  "kernelspec": {
   "display_name": "Python 3.8.5 ('hspark')",
   "language": "python",
   "name": "python3"
  },
  "language_info": {
   "codemirror_mode": {
    "name": "ipython",
    "version": 3
   },
   "file_extension": ".py",
   "mimetype": "text/x-python",
   "name": "python",
   "nbconvert_exporter": "python",
   "pygments_lexer": "ipython3",
   "version": "3.8.5"
  },
  "orig_nbformat": 4,
  "vscode": {
   "interpreter": {
    "hash": "7200c97f9580f269913cae0521a31c8c9bc2a022b66e7eee6f7caa3cb908faad"
   }
  }
 },
 "nbformat": 4,
 "nbformat_minor": 2
}
