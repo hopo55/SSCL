{
 "cells": [
  {
   "cell_type": "code",
   "execution_count": 1,
   "metadata": {},
   "outputs": [
    {
     "name": "stderr",
     "output_type": "stream",
     "text": [
      "/home/cal-05/anaconda3/envs/hspark/lib/python3.8/site-packages/tqdm/auto.py:22: TqdmWarning: IProgress not found. Please update jupyter and ipywidgets. See https://ipywidgets.readthedocs.io/en/stable/user_install.html\n",
      "  from .autonotebook import tqdm as notebook_tqdm\n"
     ]
    }
   ],
   "source": [
    "import dataloaders\n",
    "import numpy as np"
   ]
  },
  {
   "cell_type": "code",
   "execution_count": 2,
   "metadata": {},
   "outputs": [],
   "source": [
    "Dataset = dataloaders.CIFAR100"
   ]
  },
  {
   "cell_type": "code",
   "execution_count": null,
   "metadata": {},
   "outputs": [],
   "source": [
    "train_dataset = Dataset('data', download=True)\n",
    "data = train_dataset.data\n",
    "targets = train_dataset.targets\n",
    "\n",
    "print('===============================')\n",
    "print(np.array(data).shape)\n",
    "\n",
    "print('===============================')\n",
    "print(np.array(targets).shape)\n",
    "print(min(targets))\n",
    "print(max(targets))"
   ]
  },
  {
   "cell_type": "code",
   "execution_count": null,
   "metadata": {},
   "outputs": [],
   "source": [
    "train_dataset = Dataset('data', download=True, num_label_data=100)\n",
    "data = train_dataset.data\n",
    "targets = train_dataset.targets\n",
    "\n",
    "print('===============================')\n",
    "print(np.array(data).shape)\n",
    "\n",
    "print('===============================')\n",
    "print(np.array(targets).shape)\n",
    "print(min(targets))\n",
    "print(max(targets))"
   ]
  },
  {
   "cell_type": "code",
   "execution_count": 3,
   "metadata": {},
   "outputs": [],
   "source": [
    "from collections import Counter"
   ]
  },
  {
   "cell_type": "code",
   "execution_count": null,
   "metadata": {},
   "outputs": [],
   "source": [
    "train_dataset = Dataset('data', download=True, num_label_data=100, class_type='super')\n",
    "data = train_dataset.data\n",
    "targets = train_dataset.targets\n",
    "\n",
    "print('===============================')\n",
    "print(np.array(data).shape)\n",
    "\n",
    "print('===============================')\n",
    "print(np.array(targets).shape)\n",
    "print(min(targets))\n",
    "print(max(targets))\n",
    "\n",
    "targets = Counter(targets)\n",
    "print(targets)"
   ]
  },
  {
   "cell_type": "code",
   "execution_count": null,
   "metadata": {},
   "outputs": [],
   "source": [
    "train_dataset = Dataset('data', label=False, num_label_data=100, class_type='super', download=True)\n",
    "data = train_dataset.data\n",
    "targets = train_dataset.targets\n",
    "\n",
    "print('===============================')\n",
    "print(np.array(data).shape)\n",
    "\n",
    "print('===============================')\n",
    "print(np.array(targets).shape)\n",
    "print(min(targets))\n",
    "print(max(targets))\n",
    "\n",
    "targets = Counter(targets)\n",
    "print(targets)"
   ]
  },
  {
   "cell_type": "code",
   "execution_count": null,
   "metadata": {},
   "outputs": [],
   "source": [
    "test_dataset  = Dataset('data', train=False, class_type='super', download=True)\n",
    "data = test_dataset.data\n",
    "targets = test_dataset.targets\n",
    "\n",
    "print('===============================')\n",
    "print(np.array(data).shape)\n",
    "\n",
    "print('===============================')\n",
    "print(np.array(targets).shape)\n",
    "print(min(targets))\n",
    "print(max(targets))\n",
    "\n",
    "targets = Counter(targets)\n",
    "print(targets)"
   ]
  },
  {
   "cell_type": "code",
   "execution_count": 4,
   "metadata": {},
   "outputs": [],
   "source": [
    "import random\n",
    "\n",
    "num_classes = 100\n",
    "seed = 0\n",
    "rand_split = False\n",
    "\n",
    "# load tasks\n",
    "class_order = np.arange(num_classes).tolist()\n",
    "class_order_logits = np.arange(num_classes).tolist()\n",
    "if seed > 0 and rand_split:\n",
    "    random.seed(seed)\n",
    "    random.shuffle(class_order)\n",
    "\n",
    "tasks = []\n",
    "tasks_logits = []\n",
    "p = 0\n",
    "first_split_size = 5\n",
    "other_split_size = 5\n",
    "\n",
    "while p < num_classes:\n",
    "        inc = other_split_size if p > 0 else first_split_size\n",
    "        tasks.append(class_order[p:p+inc])\n",
    "        tasks_logits.append(class_order_logits[p:p+inc])\n",
    "        p += inc\n",
    "        \n",
    "num_tasks = len(tasks)\n",
    "task_names = [str(i+1) for i in range(num_tasks)]\n",
    "\n",
    "test_dataset  = Dataset('data', train=False, class_type='super', download=True)"
   ]
  },
  {
   "cell_type": "code",
   "execution_count": 5,
   "metadata": {},
   "outputs": [
    {
     "name": "stdout",
     "output_type": "stream",
     "text": [
      "====================== 1 =======================\n"
     ]
    },
    {
     "ename": "NameError",
     "evalue": "name 'test_dataset' is not defined",
     "output_type": "error",
     "traceback": [
      "\u001b[0;31m---------------------------------------------------------------------------\u001b[0m",
      "\u001b[0;31mNameError\u001b[0m                                 Traceback (most recent call last)",
      "\u001b[1;32m/home/cal-05/heonsung/SSCL/test.ipynb 셀 10\u001b[0m in \u001b[0;36m<cell line: 1>\u001b[0;34m()\u001b[0m\n\u001b[1;32m      <a href='vscode-notebook-cell://ssh-remote%2Bcal-05/home/cal-05/heonsung/SSCL/test.ipynb#X11sdnNjb2RlLXJlbW90ZQ%3D%3D?line=2'>3</a>\u001b[0m task \u001b[39m=\u001b[39m tasks_logits[i]\n\u001b[1;32m      <a href='vscode-notebook-cell://ssh-remote%2Bcal-05/home/cal-05/heonsung/SSCL/test.ipynb#X11sdnNjb2RlLXJlbW90ZQ%3D%3D?line=3'>4</a>\u001b[0m prev \u001b[39m=\u001b[39m \u001b[39msorted\u001b[39m(\u001b[39mset\u001b[39m([k \u001b[39mfor\u001b[39;00m task \u001b[39min\u001b[39;00m tasks_logits[:i] \u001b[39mfor\u001b[39;00m k \u001b[39min\u001b[39;00m task]))\n\u001b[0;32m----> <a href='vscode-notebook-cell://ssh-remote%2Bcal-05/home/cal-05/heonsung/SSCL/test.ipynb#X11sdnNjb2RlLXJlbW90ZQ%3D%3D?line=5'>6</a>\u001b[0m test_dataset\u001b[39m.\u001b[39mload_dataset(prev, i, train\u001b[39m=\u001b[39m\u001b[39mFalse\u001b[39;00m)\n\u001b[1;32m      <a href='vscode-notebook-cell://ssh-remote%2Bcal-05/home/cal-05/heonsung/SSCL/test.ipynb#X11sdnNjb2RlLXJlbW90ZQ%3D%3D?line=7'>8</a>\u001b[0m data \u001b[39m=\u001b[39m test_dataset\u001b[39m.\u001b[39mcurrent_data\n\u001b[1;32m      <a href='vscode-notebook-cell://ssh-remote%2Bcal-05/home/cal-05/heonsung/SSCL/test.ipynb#X11sdnNjb2RlLXJlbW90ZQ%3D%3D?line=8'>9</a>\u001b[0m targets \u001b[39m=\u001b[39m test_dataset\u001b[39m.\u001b[39mcurrent_targets\n",
      "\u001b[0;31mNameError\u001b[0m: name 'test_dataset' is not defined"
     ]
    }
   ],
   "source": [
    "for i in range(20):\n",
    "    print('======================', i+1, '=======================')\n",
    "    task = tasks_logits[i]\n",
    "    prev = sorted(set([k for task in tasks_logits[:i] for k in task]))\n",
    "\n",
    "    test_dataset.load_dataset(prev, i, train=False)\n",
    "\n",
    "    data = test_dataset.current_data\n",
    "    targets = test_dataset.current_targets\n",
    "\n",
    "    print('===============================')\n",
    "    print(np.array(data).shape)\n",
    "\n",
    "    print('===============================')\n",
    "    print(np.array(targets).shape)\n",
    "    print(min(targets))\n",
    "    print(max(targets))\n",
    "\n",
    "    targets = Counter(targets)\n",
    "    print(targets)"
   ]
  }
 ],
 "metadata": {
  "kernelspec": {
   "display_name": "Python 3.8.5 ('hspark')",
   "language": "python",
   "name": "python3"
  },
  "language_info": {
   "codemirror_mode": {
    "name": "ipython",
    "version": 3
   },
   "file_extension": ".py",
   "mimetype": "text/x-python",
   "name": "python",
   "nbconvert_exporter": "python",
   "pygments_lexer": "ipython3",
   "version": "3.8.5"
  },
  "orig_nbformat": 4,
  "vscode": {
   "interpreter": {
    "hash": "7200c97f9580f269913cae0521a31c8c9bc2a022b66e7eee6f7caa3cb908faad"
   }
  }
 },
 "nbformat": 4,
 "nbformat_minor": 2
}
