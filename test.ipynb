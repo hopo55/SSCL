{
 "cells": [
  {
   "cell_type": "code",
   "execution_count": 1,
   "metadata": {},
   "outputs": [
    {
     "name": "stderr",
     "output_type": "stream",
     "text": [
      "/home/cal-05/anaconda3/envs/hspark/lib/python3.8/site-packages/tqdm/auto.py:22: TqdmWarning: IProgress not found. Please update jupyter and ipywidgets. See https://ipywidgets.readthedocs.io/en/stable/user_install.html\n",
      "  from .autonotebook import tqdm as notebook_tqdm\n"
     ]
    }
   ],
   "source": [
    "import dataloaders\n",
    "import numpy as np"
   ]
  },
  {
   "cell_type": "code",
   "execution_count": 2,
   "metadata": {},
   "outputs": [],
   "source": [
    "Dataset = dataloaders.CIFAR100"
   ]
  },
  {
   "cell_type": "code",
   "execution_count": 3,
   "metadata": {},
   "outputs": [
    {
     "name": "stdout",
     "output_type": "stream",
     "text": [
      "Files already downloaded and verified\n",
      "===============================\n",
      "(50000, 32, 32, 3)\n",
      "===============================\n",
      "(50000,)\n",
      "0\n",
      "99\n"
     ]
    }
   ],
   "source": [
    "train_dataset = Dataset('data', download=True)\n",
    "data = train_dataset.data\n",
    "targets = train_dataset.targets\n",
    "\n",
    "print('===============================')\n",
    "print(np.array(data).shape)\n",
    "\n",
    "print('===============================')\n",
    "print(np.array(targets).shape)\n",
    "print(min(targets))\n",
    "print(max(targets))"
   ]
  },
  {
   "cell_type": "code",
   "execution_count": 4,
   "metadata": {},
   "outputs": [
    {
     "name": "stdout",
     "output_type": "stream",
     "text": [
      "Files already downloaded and verified\n",
      "===============================\n",
      "(10000, 32, 32, 3)\n",
      "===============================\n",
      "(10000,)\n",
      "0\n",
      "99\n"
     ]
    }
   ],
   "source": [
    "train_dataset = Dataset('data', download=True, num_label_data=100)\n",
    "data = train_dataset.data\n",
    "targets = train_dataset.targets\n",
    "\n",
    "print('===============================')\n",
    "print(np.array(data).shape)\n",
    "\n",
    "print('===============================')\n",
    "print(np.array(targets).shape)\n",
    "print(min(targets))\n",
    "print(max(targets))"
   ]
  },
  {
   "cell_type": "code",
   "execution_count": 5,
   "metadata": {},
   "outputs": [],
   "source": [
    "from collections import Counter"
   ]
  },
  {
   "cell_type": "code",
   "execution_count": 6,
   "metadata": {},
   "outputs": [
    {
     "name": "stdout",
     "output_type": "stream",
     "text": [
      "Files already downloaded and verified\n",
      "===============================\n",
      "(10000, 32, 32, 3)\n",
      "===============================\n",
      "(10000,)\n",
      "0\n",
      "19\n",
      "Counter({4: 500, 1: 500, 14: 500, 8: 500, 0: 500, 6: 500, 7: 500, 18: 500, 3: 500, 9: 500, 11: 500, 5: 500, 10: 500, 13: 500, 15: 500, 12: 500, 16: 500, 19: 500, 17: 500, 2: 500})\n"
     ]
    }
   ],
   "source": [
    "train_dataset = Dataset('data', download=True, num_label_data=100, class_type='super')\n",
    "data = train_dataset.data\n",
    "targets = train_dataset.targets\n",
    "\n",
    "print('===============================')\n",
    "print(np.array(data).shape)\n",
    "\n",
    "print('===============================')\n",
    "print(np.array(targets).shape)\n",
    "print(min(targets))\n",
    "print(max(targets))\n",
    "\n",
    "targets = Counter(targets)\n",
    "print(targets)"
   ]
  },
  {
   "cell_type": "code",
   "execution_count": 7,
   "metadata": {},
   "outputs": [
    {
     "name": "stdout",
     "output_type": "stream",
     "text": [
      "Files already downloaded and verified\n",
      "===============================\n",
      "(40000, 32, 32, 3)\n",
      "===============================\n",
      "(40000,)\n",
      "0\n",
      "19\n",
      "Counter({4: 2000, 1: 2000, 14: 2000, 8: 2000, 0: 2000, 6: 2000, 7: 2000, 18: 2000, 3: 2000, 9: 2000, 11: 2000, 5: 2000, 10: 2000, 13: 2000, 15: 2000, 12: 2000, 16: 2000, 19: 2000, 17: 2000, 2: 2000})\n"
     ]
    }
   ],
   "source": [
    "train_dataset = Dataset('data', label=False, num_label_data=100, class_type='super', download=True)\n",
    "data = train_dataset.data\n",
    "targets = train_dataset.targets\n",
    "\n",
    "print('===============================')\n",
    "print(np.array(data).shape)\n",
    "\n",
    "print('===============================')\n",
    "print(np.array(targets).shape)\n",
    "print(min(targets))\n",
    "print(max(targets))\n",
    "\n",
    "targets = Counter(targets)\n",
    "print(targets)"
   ]
  }
 ],
 "metadata": {
  "kernelspec": {
   "display_name": "Python 3.8.5 ('hspark')",
   "language": "python",
   "name": "python3"
  },
  "language_info": {
   "codemirror_mode": {
    "name": "ipython",
    "version": 3
   },
   "file_extension": ".py",
   "mimetype": "text/x-python",
   "name": "python",
   "nbconvert_exporter": "python",
   "pygments_lexer": "ipython3",
   "version": "3.8.5"
  },
  "orig_nbformat": 4,
  "vscode": {
   "interpreter": {
    "hash": "7200c97f9580f269913cae0521a31c8c9bc2a022b66e7eee6f7caa3cb908faad"
   }
  }
 },
 "nbformat": 4,
 "nbformat_minor": 2
}
